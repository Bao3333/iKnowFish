{
  "nbformat": 4,
  "nbformat_minor": 0,
  "metadata": {
    "colab": {
      "provenance": [],
      "include_colab_link": true
    },
    "kernelspec": {
      "name": "python3",
      "display_name": "Python 3"
    },
    "language_info": {
      "name": "python"
    }
  },
  "cells": [
    {
      "cell_type": "markdown",
      "metadata": {
        "id": "view-in-github",
        "colab_type": "text"
      },
      "source": [
        "<a href=\"https://colab.research.google.com/github/Bao3333/iKnowFish/blob/main/Rich_map1003.ipynb\" target=\"_parent\"><img src=\"https://colab.research.google.com/assets/colab-badge.svg\" alt=\"Open In Colab\"/></a>"
      ]
    },
    {
      "cell_type": "markdown",
      "source": [
        "###基本步驟"
      ],
      "metadata": {
        "id": "jfEFXfgbQfm1"
      }
    },
    {
      "cell_type": "code",
      "execution_count": null,
      "metadata": {
        "id": "plQPW1NhMkM7"
      },
      "outputs": [],
      "source": [
        "# 連接Google Drive\n",
        "from google.colab import drive\n",
        "drive.mount('/content/drive')"
      ]
    },
    {
      "cell_type": "code",
      "source": [
        "# 安裝套件\n",
        "!pip install line-bot-sdk flask flask-ngrok pyngrok"
      ],
      "metadata": {
        "id": "il2_3PeuN0Ip"
      },
      "execution_count": null,
      "outputs": []
    },
    {
      "cell_type": "code",
      "source": [
        "# 引用Web Server套件\n",
        "from flask import Flask, request, abort, jsonify\n",
        "\n",
        "# 載入json處理套件\n",
        "import json\n",
        "\n",
        "# 外部連結自動生成套件\n",
        "from flask_ngrok import run_with_ngrok\n",
        "\n",
        "# 從linebot 套件包裡引用 LineBotApi 與 WebhookHandler 類別\n",
        "from linebot import (\n",
        "    LineBotApi, WebhookHandler\n",
        ")\n",
        "# 引用無效簽章錯誤\n",
        "from linebot.exceptions import (\n",
        "    InvalidSignatureError\n",
        ")"
      ],
      "metadata": {
        "id": "a02WP4eIN2Cd"
      },
      "execution_count": null,
      "outputs": []
    },
    {
      "cell_type": "code",
      "source": [
        "# 設定Server啟用細節\n",
        "app = Flask(__name__,static_url_path = \"/material\" , static_folder = \"./material/\")\n",
        "run_with_ngrok(app)\n",
        "\n",
        "# 生成實體物件\n",
        "line_bot_api = LineBotApi(\"Mi4JsyDs+dGNuZPFlm7SqmlM2YTE0xxDkm8vkRolkSFrA9E2JQQfQKU1hUfayQhk1Po5iOrCCwV3XdwWPxKQH/JwGHxNG4y4qjjc7iLItABk0uTW+KSB/GyHKDoeQyrIE7zzw0jodQpP6Wm3R1BrFgdB04t89/1O/w1cDnyilFU=\")\n",
        "handler = WebhookHandler(\"8259df02f27ce24a385057e93d26655f\")"
      ],
      "metadata": {
        "id": "A3Sqa9CfN3do"
      },
      "execution_count": null,
      "outputs": []
    },
    {
      "cell_type": "code",
      "source": [
        "# 啟動server對外接口，使Line能丟消息進來\n",
        "@app.route(\"/\", methods=['POST'])\n",
        "def callback():\n",
        "    # get X-Line-Signature header value\n",
        "    signature = request.headers['X-Line-Signature']\n",
        "\n",
        "    # get request body as text\n",
        "    body = request.get_data(as_text=True)\n",
        "    app.logger.info(\"Request body:\" + body)\n",
        "    print(body)\n",
        "\n",
        "    # 記錄用戶log\n",
        "    f = open(\"/content/drive/MyDrive/ai-event.log\", \"a\")\n",
        "    f.write(body)\n",
        "    f.close()\n",
        "\n",
        "    # handle webhook body\n",
        "    try:\n",
        "        handler.handle(body, signature)\n",
        "    except InvalidSignatureError:\n",
        "        abort(400)\n",
        "\n",
        "    return 'OK'"
      ],
      "metadata": {
        "id": "Umb2eKtqN37R"
      },
      "execution_count": null,
      "outputs": []
    },
    {
      "cell_type": "markdown",
      "source": [
        "###Rich Menu 設置"
      ],
      "metadata": {
        "id": "2rXjS-jGQkSz"
      }
    },
    {
      "cell_type": "code",
      "source": [
        "# 載入linebot.models\n",
        "from linebot.models import *\n",
        "import requests\n",
        "\n",
        "#設定Rich Menu大小、位置及功能\n",
        "rich_menu = RichMenu(\n",
        "    size=RichMenuSize(width=2500, height=833),\n",
        "    selected=False,\n",
        "    name=\"Nice richmenu\",\n",
        "    chat_bar_text=\"Tap here\",\n",
        "    areas =[\n",
        "        RichMenuArea(\n",
        "            bounds=RichMenuBounds(x=0, y=0, width=833, height=554),\n",
        "            action=MessageAction(label=\"情境互動\", text=\"開啟情境互動任務\")),\n",
        "        RichMenuArea(\n",
        "            bounds=RichMenuBounds(x=834, y=0, width=833, height=554),\n",
        "            action=URIAction(label='魚類辨識', uri='https://line.me/R/nv/camera/')),\n",
        "        RichMenuArea(\n",
        "            bounds=RichMenuBounds(x=1667, y=0, width=833, height=554),\n",
        "            action=URIAction(\n",
        "                label='打開地圖', \n",
        "                uri='https://www.nmmst.gov.tw/chhtml/content/312')),\n",
        "        RichMenuArea(\n",
        "            bounds=RichMenuBounds(x=0, y=554, width=2500, height=277),\n",
        "            action=PostbackAction(\n",
        "                label='其他資訊',\n",
        "                data=\"rich_menu_others\"\n",
        "            ))\n",
        "        ]\n",
        ")"
      ],
      "metadata": {
        "id": "KtVHVmr_QokY"
      },
      "execution_count": null,
      "outputs": []
    },
    {
      "cell_type": "code",
      "source": [
        "# 取得該Rich Menu的id\n",
        "\n",
        "rich_menu_default_id = line_bot_api.create_rich_menu(rich_menu=rich_menu)\n",
        "print(rich_menu_default_id)"
      ],
      "metadata": {
        "colab": {
          "base_uri": "https://localhost:8080/"
        },
        "id": "dYU9_fhDQ67a",
        "outputId": "c33fce67-bd13-4eaf-8c8a-d9b325ba100d"
      },
      "execution_count": null,
      "outputs": [
        {
          "output_type": "stream",
          "name": "stdout",
          "text": [
            "richmenu-63ee00725089c0eeffb4ab53b947d099\n"
          ]
        }
      ]
    },
    {
      "cell_type": "code",
      "source": [
        "# 將特定的Rich Menu(用id來指定要哪個)與想要的圖片綁在一起\n",
        "\n",
        "with open(\"/content/drive/MyDrive/Tibame_ai工程師班/期末專題/LineBot/Rich_Menu.jpg\", 'rb') as f:\n",
        "    line_bot_api.set_rich_menu_image(rich_menu_default_id, \"image/jpeg\", f)"
      ],
      "metadata": {
        "id": "XTKzz4FSRJNn"
      },
      "execution_count": null,
      "outputs": []
    },
    {
      "cell_type": "code",
      "source": [
        "# 將綁好的rich Menu設定為預設圖文選單(不針對使用者id, 所有人都用的)\n",
        "\n",
        "line_bot_api.set_default_rich_menu(rich_menu_default_id)"
      ],
      "metadata": {
        "id": "cSY6_1faRzFH"
      },
      "execution_count": null,
      "outputs": []
    },
    {
      "cell_type": "markdown",
      "source": [
        "###Follow Event-記錄用戶資訊、發送歡迎訊息"
      ],
      "metadata": {
        "id": "314ykMYdT672"
      }
    },
    {
      "cell_type": "code",
      "source": [
        "@handler.add(FollowEvent)\n",
        "def reply_text_and_get_user_profile(event):\n",
        "    \n",
        "    # 取出消息內User的資料\n",
        "    user_profile = line_bot_api.get_profile(event.source.user_id)\n",
        "        \n",
        "     # 將用戶資訊存在檔案內\n",
        "    with open(\"/content/drive/MyDrive/users.txt\", \"a\") as myfile:\n",
        "        myfile.write(json.dumps(vars(user_profile),sort_keys=True))\n",
        "        myfile.write('\\n')\n",
        "\n",
        "    #line_bot_api.link_rich_menu_to_user(event.source.user_id, rich_menu_id)\n",
        "\n",
        "    # 回覆文字消息與圖片消息\n",
        "    line_bot_api.reply_message(\n",
        "        event.reply_token,\n",
        "        [TextSendMessage('非常感謝您的關注!')]\n",
        "    )"
      ],
      "metadata": {
        "id": "nnZDBfEfUMc4"
      },
      "execution_count": null,
      "outputs": []
    },
    {
      "cell_type": "markdown",
      "source": [
        "###Rich Menu-情境互動連接(暫定Button Template形式進行)"
      ],
      "metadata": {
        "id": "ln5NWf0SWxBK"
      }
    },
    {
      "cell_type": "code",
      "source": [
        "# 建立Button Template\n",
        "\n",
        "story_button1 = TemplateSendMessage(\n",
        "    alt_text=\"Buttons template\",\n",
        "    template=ButtonsTemplate(title=\"歡迎來到海科館, 接下來請依照提示完成任務, 完成後將能夠獲得神秘小禮物\",\n",
        "                             text=\"準備好要開啟海科館大冒險了嗎\",\n",
        "                             thumbnail_image_url=\"https://i.imgur.com/ECtbnK4.jpg\",\n",
        "                             actions=[\n",
        "                                 {\"type\":\"message\",\n",
        "                                  \"label\":\"我準備好了\",\n",
        "                                  \"text\":\"我準備好了\",\n",
        "                                 },\n",
        "                                 {\"type\":\"message\",\n",
        "                                  \"label\":\"小等一下\",\n",
        "                                  \"text\":\"小等一下\",\n",
        "                                 }\n",
        "                                      ]\n",
        "                             )\n",
        "                                    )"
      ],
      "metadata": {
        "id": "1RorEiJlc9Ss"
      },
      "execution_count": null,
      "outputs": []
    },
    {
      "cell_type": "code",
      "source": [
        "# 建立觸發回覆\n",
        "\n",
        "@handler.add(MessageEvent, message=TextMessage)\n",
        "def handle_message(event):\n",
        "  if event.message.text == \"開啟情境互動任務\":\n",
        "    line_bot_api.reply_message(event.reply_token, \n",
        "                               story_button1)\n"
      ],
      "metadata": {
        "id": "iUXDKP6aXJ1x"
      },
      "execution_count": null,
      "outputs": []
    },
    {
      "cell_type": "markdown",
      "source": [
        "###Rich Menu-其他功能Quickreply Button建立"
      ],
      "metadata": {
        "id": "WOVkFx4uUqIp"
      }
    },
    {
      "cell_type": "code",
      "source": [
        "@handler.add(PostbackEvent)\n",
        "def handle_postback_message(event):\n",
        "    user_profile = line_bot_api.get_profile(event.source.user_id)\n",
        "    if event.postback.data == 'rich_menu_others':\n",
        "        flex_message = TextSendMessage(\n",
        "            text='最新活動及魚種介紹',\n",
        "            quick_reply=QuickReply(\n",
        "                items=[\n",
        "                QuickReplyButton(action=MessageAction(label=\"其他活動\", text=\"其他活動\")),\n",
        "                QuickReplyButton(action=MessageAction(label=\"魚種介紹\", text=\"魚種介紹\")),\n",
        "                QuickReplyButton(action=URIAction(\n",
        "                    label='進入官網', \n",
        "                    uri='https://www.nmmst.gov.tw/chhtml/'\n",
        "                ))]\n",
        "            )\n",
        "        )\n",
        "        line_bot_api.reply_message(\n",
        "            event.reply_token,\n",
        "            [\n",
        "                flex_message\n",
        "            ]\n",
        "        )"
      ],
      "metadata": {
        "id": "r6SIUinNURRw"
      },
      "execution_count": null,
      "outputs": []
    },
    {
      "cell_type": "code",
      "source": [
        "app.run()"
      ],
      "metadata": {
        "id": "M2OVoos2jxOI"
      },
      "execution_count": null,
      "outputs": []
    }
  ]
}